{
 "cells": [
  {
   "cell_type": "markdown",
   "metadata": {},
   "source": [
    "# ES6 변수, 상수 선언 키워드\n",
    "\n",
    "## #01. 선언 키워드의 종류\n",
    "\n",
    "- let : 정의된 블록내에서만 존재하는 변수 선언 (지역 변수)\n",
    "- const : 위와 동일, 상수(변하지 않는 값) 선언\n",
    "- var : ES6문법 이전부터 사용하던 변수 선언 (전역 변수)\n",
    "\n",
    "## #02. var 키워드의 용법\n",
    "\n",
    "### 1) 중복선언 가능"
   ]
  },
  {
   "cell_type": "code",
   "execution_count": 2,
   "metadata": {},
   "outputs": [
    {
     "name": "stdout",
     "output_type": "stream",
     "text": [
      "bar2\n"
     ]
    }
   ],
   "source": [
    "var foo = 'bar1';\n",
    "var foo = 'bar2';\n",
    "console.log(foo);"
   ]
  },
  {
   "cell_type": "markdown",
   "metadata": {},
   "source": [
    "### 2) 블록 내 외부의 출입이 자유로움"
   ]
  },
  {
   "cell_type": "code",
   "execution_count": 4,
   "metadata": {},
   "outputs": [
    {
     "name": "stdout",
     "output_type": "stream",
     "text": [
      "100\n",
      "200\n"
     ]
    }
   ],
   "source": [
    "var num1 = 100;\n",
    "\n",
    "if (true) {\n",
    "    console.log(num1);\n",
    "    var num2 = 200;\n",
    "}\n",
    "\n",
    "console.log(num2);"
   ]
  },
  {
   "cell_type": "markdown",
   "metadata": {},
   "source": [
    "### 3) 코드의 순서를 역행해서 식별가능함\n",
    "\n",
    "#### `a`는 선언되지 않았으므로 에러"
   ]
  },
  {
   "cell_type": "code",
   "execution_count": 5,
   "metadata": {},
   "outputs": [
    {
     "ename": "ReferenceError",
     "evalue": "a is not defined",
     "execution_count": 5,
     "output_type": "error",
     "traceback": [
      "evalmachine.<anonymous>:1",
      "console.log(a);",
      "            ^",
      "",
      "ReferenceError: a is not defined",
      "    at evalmachine.<anonymous>:1:13",
      "    at Script.runInThisContext (vm.js:116:20)",
      "    at Object.runInThisContext (vm.js:306:38)",
      "    at run ([eval]:1054:15)",
      "    at onRunRequest ([eval]:888:18)",
      "    at onMessage ([eval]:848:13)",
      "    at process.emit (events.js:210:5)",
      "    at emit (internal/child_process.js:883:12)",
      "    at processTicksAndRejections (internal/process/task_queues.js:81:21)"
     ]
    }
   ],
   "source": [
    "console.log(a);"
   ]
  },
  {
   "cell_type": "markdown",
   "metadata": {},
   "source": [
    "#### 나중에 선언하더라도 식별이 됨\n",
    "하지만 값이 정의되기 이전에 출력했으므로 `undefined`가 출력됨"
   ]
  },
  {
   "cell_type": "code",
   "execution_count": 9,
   "metadata": {},
   "outputs": [
    {
     "name": "stdout",
     "output_type": "stream",
     "text": [
      "undefined\n"
     ]
    }
   ],
   "source": [
    "console.log(b1);\n",
    "var b1 = 123;"
   ]
  },
  {
   "cell_type": "markdown",
   "metadata": {},
   "source": [
    "## #03. let 키워드의 용법\n",
    "\n",
    "### 1) 확실한 스코프(유효범위)가 존재함\n",
    "\n",
    "#### 중복 선언 불가"
   ]
  },
  {
   "cell_type": "code",
   "execution_count": 11,
   "metadata": {},
   "outputs": [
    {
     "ename": "SyntaxError",
     "evalue": "Identifier 'let_value' has already been declared",
     "execution_count": 11,
     "output_type": "error",
     "traceback": [
      "evalmachine.<anonymous>:2",
      "let let_value = 200; //<-- 에러",
      "    ^",
      "",
      "SyntaxError: Identifier 'let_value' has already been declared",
      "    at new Script (vm.js:84:7)",
      "    at createScript (vm.js:258:10)",
      "    at Object.runInThisContext (vm.js:306:10)",
      "    at run ([eval]:1054:15)",
      "    at onRunRequest ([eval]:888:18)",
      "    at onMessage ([eval]:848:13)",
      "    at process.emit (events.js:210:5)",
      "    at emit (internal/child_process.js:883:12)",
      "    at processTicksAndRejections (internal/process/task_queues.js:81:21)"
     ]
    }
   ],
   "source": [
    "let let_value = 100;\n",
    "let let_value = 200; //<-- 에러"
   ]
  },
  {
   "cell_type": "markdown",
   "metadata": {},
   "source": [
    "### 확실한 유효성 범위가 존재함\n",
    "\n",
    "자신이 선언된 위치보다 하위 블록으로는 침투 가능.\n",
    "\n",
    "자신이 선언된 블록 밖으로 빠져나가지 못함."
   ]
  },
  {
   "cell_type": "code",
   "execution_count": 12,
   "metadata": {},
   "outputs": [
    {
     "name": "stdout",
     "output_type": "stream",
     "text": [
      "안녕하세요\n"
     ]
    },
    {
     "ename": "ReferenceError",
     "evalue": "world is not defined",
     "execution_count": 12,
     "output_type": "error",
     "traceback": [
      "evalmachine.<anonymous>:9",
      "console.log(world);  // 에러",
      "            ^",
      "",
      "ReferenceError: world is not defined",
      "    at evalmachine.<anonymous>:9:13",
      "    at Script.runInThisContext (vm.js:116:20)",
      "    at Object.runInThisContext (vm.js:306:38)",
      "    at run ([eval]:1054:15)",
      "    at onRunRequest ([eval]:888:18)",
      "    at onMessage ([eval]:848:13)",
      "    at process.emit (events.js:210:5)",
      "    at emit (internal/child_process.js:883:12)",
      "    at processTicksAndRejections (internal/process/task_queues.js:81:21)"
     ]
    }
   ],
   "source": [
    "let hello = \"안녕하세요\";\n",
    "\n",
    "if (true) {\n",
    "    console.log(hello);\n",
    "    \n",
    "    let world = \"자바스크립트\";\n",
    "}\n",
    "\n",
    "console.log(world);  // 에러"
   ]
  },
  {
   "cell_type": "markdown",
   "metadata": {},
   "source": [
    "## #04. const의 용법\n",
    "\n",
    "최초에 값을 할당한 후 재할당이 불가능함.\n",
    "\n",
    "만약 const 키워드를 사용하여 배열이나 json을 생성했다면 내부 원소의 값은 변경 가능함."
   ]
  },
  {
   "cell_type": "code",
   "execution_count": 13,
   "metadata": {},
   "outputs": [
    {
     "name": "stdout",
     "output_type": "stream",
     "text": [
      "const value\n"
     ]
    },
    {
     "ename": "TypeError",
     "evalue": "Assignment to constant variable.",
     "execution_count": 13,
     "output_type": "error",
     "traceback": [
      "evalmachine.<anonymous>:4",
      "myConst = \"변경할 수 없습니다.\"; // 에러",
      "        ^",
      "",
      "TypeError: Assignment to constant variable.",
      "    at evalmachine.<anonymous>:4:9",
      "    at Script.runInThisContext (vm.js:116:20)",
      "    at Object.runInThisContext (vm.js:306:38)",
      "    at run ([eval]:1054:15)",
      "    at onRunRequest ([eval]:888:18)",
      "    at onMessage ([eval]:848:13)",
      "    at process.emit (events.js:210:5)",
      "    at emit (internal/child_process.js:883:12)",
      "    at processTicksAndRejections (internal/process/task_queues.js:81:21)"
     ]
    }
   ],
   "source": [
    "const myConst = \"const value\";\n",
    "console.log(myConst);\n",
    "\n",
    "myConst = \"변경할 수 없습니다.\"; // 에러"
   ]
  },
  {
   "cell_type": "code",
   "execution_count": null,
   "metadata": {},
   "outputs": [],
   "source": []
  }
 ],
 "metadata": {
  "kernelspec": {
   "display_name": "Javascript (Node.js)",
   "language": "javascript",
   "name": "javascript"
  },
  "language_info": {
   "file_extension": ".js",
   "mimetype": "application/javascript",
   "name": "javascript",
   "version": "13.0.1"
  }
 },
 "nbformat": 4,
 "nbformat_minor": 4
}
