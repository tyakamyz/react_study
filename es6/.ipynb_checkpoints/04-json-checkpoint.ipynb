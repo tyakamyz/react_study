{
 "cells": [
  {
   "cell_type": "markdown",
   "metadata": {},
   "source": [
    "# JSON"
   ]
  },
  {
   "cell_type": "code",
   "execution_count": 3,
   "metadata": {},
   "outputs": [
    {
     "name": "stdout",
     "output_type": "stream",
     "text": [
      "학번: 10101\n",
      "학년: 1\n",
      "이름: 학생1\n",
      "연락처: 010-1231-2342\n",
      "학번: 10101\n",
      "학년: 1\n",
      "이름: 학생1\n",
      "연락처: 010-1231-2342\n"
     ]
    }
   ],
   "source": [
    "var student = {\n",
    "\tstudno: 10101,\t\t\t// json은 원래 항상 이름에 \"\"를 붙여야함. ex) \"studno\" : 10101\n",
    "\tgrade: 1,\n",
    "\tname: \"학생1\",\n",
    "\tphoneno: \"010-1231-2342\"\n",
    "};\n",
    "\n",
    "console.log(\"학번: %d\", student.studno);\n",
    "console.log(\"학년: %d\", student.grade);\n",
    "console.log(\"이름: %s\", student.name);\n",
    "console.log(\"연락처: %s\", student.phoneno);\n",
    "\n",
    "console.log(\"학번: %d\", student['studno']);\n",
    "console.log(\"학년: %d\", student['grade']);\n",
    "console.log(\"이름: %s\", student['name']);\n",
    "console.log(\"연락처: %s\", student['phoneno']);"
   ]
  },
  {
   "cell_type": "code",
   "execution_count": 4,
   "metadata": {},
   "outputs": [
    {
     "name": "stdout",
     "output_type": "stream",
     "text": [
      "(주)굿모닝컴페니\n",
      "2013\n",
      "기획팀\n",
      "디자인팀\n",
      "개발팀\n"
     ]
    }
   ],
   "source": [
    "var company = {\n",
    "    name : \"(주)굿모닝컴페니\",\n",
    "    since : 2013,\n",
    "    department : [\"기획팀\", \"디자인팀\", \"개발팀\"]\n",
    "};\n",
    "\n",
    "console.log(company.name);\n",
    "console.log(company['since']);\n",
    "console.log(company.department[0]);\n",
    "console.log(company.department[1]);\n",
    "console.log(company['department'][2]);"
   ]
  },
  {
   "cell_type": "code",
   "execution_count": null,
   "metadata": {},
   "outputs": [],
   "source": []
  }
 ],
 "metadata": {
  "kernelspec": {
   "display_name": "Javascript (Node.js)",
   "language": "javascript",
   "name": "javascript"
  },
  "language_info": {
   "file_extension": ".js",
   "mimetype": "application/javascript",
   "name": "javascript",
   "version": "12.13.0"
  }
 },
 "nbformat": 4,
 "nbformat_minor": 4
}
