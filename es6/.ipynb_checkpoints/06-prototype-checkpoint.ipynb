{
 "cells": [
  {
   "cell_type": "markdown",
   "metadata": {},
   "source": [
    "# PROTOTYPE (ES5)"
   ]
  },
  {
   "cell_type": "code",
   "execution_count": 1,
   "metadata": {},
   "outputs": [
    {
     "name": "stdout",
     "output_type": "stream",
     "text": [
      ">> Say 객체가 kor로 생성되었습니다.\n",
      "안녕하세요. 노드제이에스\n",
      ">> Say 객체가 eng로 생성되었습니다.\n",
      "Hello Nodejs\n"
     ]
    }
   ],
   "source": [
    "var Say = function(what) {\n",
    "\tconsole.log(\">> Say 객체가 %s로 생성되었습니다.\", what);\n",
    "\tthis.lang = what;\n",
    "\n",
    "\tif (this.lang == \"kor\") {\n",
    "\t\tthis.msg = \"안녕하세요. 노드제이에스\";\n",
    "\t} else {\n",
    "\t\tthis.msg = \"Hello Nodejs\";\n",
    "\t}\n",
    "};\n",
    "\n",
    "// 함수를 new 키워드로 호출하면 객체를 생성함.\n",
    "// 이때 호출한 함수는 함수가 아닌 생성자 라고 부름.\n",
    "// 독립적인 객체가 만들어짐.\n",
    "var kor = new Say(\"kor\");\n",
    "console.log(kor.msg);\n",
    "\n",
    "var eng = new Say(\"eng\");\n",
    "console.log(eng.msg);"
   ]
  },
  {
   "cell_type": "code",
   "execution_count": 7,
   "metadata": {},
   "outputs": [
    {
     "name": "stdout",
     "output_type": "stream",
     "text": [
      ">> Say 객체가 kor로 생성되었습니다.\n",
      "안녕하세요. 노드제이에스\n",
      ">> Say 객체가 eng로 생성되었습니다.\n",
      "Hello Nodejs\n"
     ]
    }
   ],
   "source": [
    "var Say = function(what) {\n",
    "\tconsole.log(\">> Say 객체가 %s로 생성되었습니다.\", what);\n",
    "\tthis.lang = what;\n",
    "\tif (this.lang == \"kor\") {\n",
    "\t\tthis.msg = \"안녕하세요. 노드제이에스\";\n",
    "\t} else {\n",
    "\t\tthis.msg = \"Hello Nodejs\";\n",
    "\t}\n",
    "};\n",
    "\n",
    "// Say라는 생성자 안에 hello라는 함수를 소속시킴\n",
    "Say.prototype.hello = function() {\n",
    "\tconsole.log(this.msg);\n",
    "}\n",
    "\n",
    "\n",
    "// Say안에 소속된 모든 기능을 kor이라는 이름으로 부여받음\n",
    "var kor = new Say(\"kor\");\n",
    "kor.hello();\n",
    "\n",
    "// Say안에 소속된 모든 기능을 eng이라는 이름으로 부여받음\n",
    "var eng = new Say(\"eng\");\n",
    "eng.hello();"
   ]
  },
  {
   "cell_type": "code",
   "execution_count": 9,
   "metadata": {},
   "outputs": [
    {
     "name": "stdout",
     "output_type": "stream",
     "text": [
      "User 클래스의 객체가 생성됨\n",
      "가입되었습니다.\n",
      ">> 이름: 학생1, 나이: 20\n",
      "회원정보가 수정되었습니다.\n",
      ">> 이름: 학생1(수정), 나이: 21\n",
      "탈퇴되었습니다.\n",
      ">> 이름: null, 나이: 0\n",
      "User 클래스의 객체가 생성됨\n",
      "가입되었습니다.\n",
      ">> 이름: 학생2, 나이: 23\n",
      "회원정보가 수정되었습니다.\n",
      ">> 이름: 학생2(수정), 나이: 24\n",
      "탈퇴되었습니다.\n",
      ">> 이름: null, 나이: 0\n"
     ]
    }
   ],
   "source": [
    "var User = function() {\n",
    "    console.log(\"User 클래스의 객체가 생성됨\");\n",
    "    this.name = null;\n",
    "    this.age = null;\n",
    "};\n",
    "\n",
    "User.prototype.view = function() {\n",
    "    console.log(\">> 이름: %s, 나이: %d\", this.name, this.age);\n",
    "};\n",
    "\n",
    "User.prototype.join = function(name, age) {\n",
    "    this.name = name;\n",
    "    this.age = age;\n",
    "    console.log(\"가입되었습니다.\");\n",
    "    this.view();\n",
    "};\n",
    "\n",
    "User.prototype.edit = function(name, age) {\n",
    "    this.name = name;\n",
    "    this.age = age;\n",
    "    console.log(\"회원정보가 수정되었습니다.\");\n",
    "    this.view();\n",
    "};\n",
    "\n",
    "User.prototype.out = function() {\n",
    "    this.name = null;\n",
    "    this.age = null;\n",
    "    console.log(\"탈퇴되었습니다.\");\n",
    "    this.view();\n",
    "};\n",
    "\n",
    "var user1 = new User();\n",
    "user1.join(\"학생1\", 20);\n",
    "user1.edit(\"학생1(수정)\", 21);\n",
    "user1.out();\n",
    "\n",
    "\n",
    "var user2 = new User();\n",
    "user2.join(\"학생2\", 23);\n",
    "user2.edit(\"학생2(수정)\", 24);\n",
    "user2.out();"
   ]
  },
  {
   "cell_type": "code",
   "execution_count": 12,
   "metadata": {},
   "outputs": [
    {
     "name": "stdout",
     "output_type": "stream",
     "text": [
      "안녕하세요...\n"
     ]
    }
   ],
   "source": [
    "String.prototype.elipsis = function(length) {\t\t// 기존 String에도 추가 가능함\n",
    "\tvar value = this;\n",
    "\n",
    "\tif (value.length > length) {\n",
    "\t\tvalue = value.substring(0, length);\n",
    "\t\tvalue += \"...\";\n",
    "\t}\n",
    "\n",
    "\treturn value;\n",
    "}\n",
    "\n",
    "var msg = \"안녕하세요. Nodejs 프로그래밍 입니다.\";\n",
    "console.log(msg.elipsis(5));"
   ]
  },
  {
   "cell_type": "code",
   "execution_count": 14,
   "metadata": {},
   "outputs": [
    {
     "name": "stdout",
     "output_type": "stream",
     "text": [
      "---- Member의 객체가 생성되었습니다. ----\n",
      "이름: 헬로노드\n",
      "나이: 19\n",
      "이름: 노드학생\n",
      "나이: 20\n"
     ]
    }
   ],
   "source": [
    "var Member = function(name, age) {\n",
    "\tconsole.log(\"---- Member의 객체가 생성되었습니다. ----\");\n",
    "\tthis.name = name;\n",
    "\tthis.age = age;\n",
    "};\n",
    "\n",
    "Member.prototype = {\t\t// prototype을 json으로 한번에 묶어서 생성함\n",
    "\tsetName: function(name) {\n",
    "\t\tthis.name = name;\n",
    "\t},\n",
    "\tsetAge: function(age) {\n",
    "\t\tthis.age = age\n",
    "\t},\n",
    "\tsay: function() {\n",
    "\t\tconsole.log(\"이름: \" + this.name);\n",
    "\t\tconsole.log(\"나이: \" + this.age);\n",
    "\t}\n",
    "};\n",
    "\n",
    "var obj = new Member('헬로노드', 19);\n",
    "obj.say();\n",
    "obj.setName('노드학생');\n",
    "obj.setAge(20);\n",
    "obj.say();"
   ]
  }
 ],
 "metadata": {
  "kernelspec": {
   "display_name": "Javascript (Node.js)",
   "language": "javascript",
   "name": "javascript"
  },
  "language_info": {
   "file_extension": ".js",
   "mimetype": "application/javascript",
   "name": "javascript",
   "version": "12.13.0"
  }
 },
 "nbformat": 4,
 "nbformat_minor": 4
}
