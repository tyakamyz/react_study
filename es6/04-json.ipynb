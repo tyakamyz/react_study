{
 "cells": [
  {
   "cell_type": "markdown",
   "metadata": {},
   "source": [
    "# JSON"
   ]
  },
  {
   "cell_type": "code",
   "execution_count": 3,
   "metadata": {},
   "outputs": [
    {
     "name": "stdout",
     "output_type": "stream",
     "text": [
      "학번: 10101\n",
      "학년: 1\n",
      "이름: 학생1\n",
      "연락처: 010-1231-2342\n",
      "학번: 10101\n",
      "학년: 1\n",
      "이름: 학생1\n",
      "연락처: 010-1231-2342\n"
     ]
    }
   ],
   "source": [
    "var student = {\n",
    "\tstudno: 10101,\t\t\t// json은 원래 항상 이름에 \"\"를 붙여야함. ex) \"studno\" : 10101\n",
    "\tgrade: 1,\n",
    "\tname: \"학생1\",\n",
    "\tphoneno: \"010-1231-2342\"\n",
    "};\n",
    "\n",
    "console.log(\"학번: %d\", student.studno);\n",
    "console.log(\"학년: %d\", student.grade);\n",
    "console.log(\"이름: %s\", student.name);\n",
    "console.log(\"연락처: %s\", student.phoneno);\n",
    "\n",
    "console.log(\"학번: %d\", student['studno']);\n",
    "console.log(\"학년: %d\", student['grade']);\n",
    "console.log(\"이름: %s\", student['name']);\n",
    "console.log(\"연락처: %s\", student['phoneno']);"
   ]
  },
  {
   "cell_type": "code",
   "execution_count": 4,
   "metadata": {},
   "outputs": [
    {
     "name": "stdout",
     "output_type": "stream",
     "text": [
      "(주)굿모닝컴페니\n",
      "2013\n",
      "기획팀\n",
      "디자인팀\n",
      "개발팀\n"
     ]
    }
   ],
   "source": [
    "var company = {\n",
    "    name : \"(주)굿모닝컴페니\",\n",
    "    since : 2013,\n",
    "    department : [\"기획팀\", \"디자인팀\", \"개발팀\"]\n",
    "};\n",
    "\n",
    "console.log(company.name);\n",
    "console.log(company['since']);\n",
    "console.log(company.department[0]);\n",
    "console.log(company.department[1]);\n",
    "console.log(company['department'][2]);"
   ]
  },
  {
   "cell_type": "code",
   "execution_count": 7,
   "metadata": {},
   "outputs": [
    {
     "name": "stdout",
     "output_type": "stream",
     "text": [
      "원의 중점: (5, 10)\n",
      "원의 반지름: 5.1\n"
     ]
    }
   ],
   "source": [
    "var centerPoint = {\n",
    "\tx: 5,\n",
    "\ty: 10\n",
    "};\n",
    "\n",
    "var circle = {\n",
    "\tcenter: centerPoint,\n",
    "\tradius: 5.10\n",
    "};\n",
    "\n",
    "console.log(\"원의 중점: (%d, %d)\", circle.center.x, circle.center.y);\n",
    "console.log(\"원의 반지름: %d\", circle.radius);"
   ]
  },
  {
   "cell_type": "code",
   "execution_count": 6,
   "metadata": {},
   "outputs": [
    {
     "name": "stdout",
     "output_type": "stream",
     "text": [
      "원의 중점: (5, 10)\n",
      "원의 반지름: 5.1\n"
     ]
    }
   ],
   "source": [
    "var circle = {\n",
    "\tcenter: {\n",
    "\t\tx: 5,\n",
    "\t\ty: 10\n",
    "\t},\n",
    "\tradius: 5.10\n",
    "};\n",
    "\n",
    "console.log(\"원의 중점: (%d, %d)\", circle.center.x, circle.center.y);\n",
    "console.log(\"원의 반지름: %d\", circle.radius);"
   ]
  },
  {
   "cell_type": "code",
   "execution_count": 8,
   "metadata": {},
   "outputs": [
    {
     "name": "stdout",
     "output_type": "stream",
     "text": [
      "1위: HTML5(+178)\n",
      "2위: CSS3(new150)\n",
      "3위: jQuery(+135)\n"
     ]
    }
   ],
   "source": [
    "var rank = {\n",
    "    r1 : { k : \"HTML5\",  s : \"+\",   v : 178 },\n",
    "    r2 : { k : \"CSS3\",   s : \"new\", v : 150 },\n",
    "    r3 : { k : \"jQuery\", s : \"+\",   v : 135 }\n",
    "};\n",
    "\n",
    "console.log(\"1위: %s(%s%d)\", rank.r1.k, rank.r1.s, rank.r1.v);\n",
    "console.log(\"2위: %s(%s%d)\", rank.r2.k, rank.r2.s, rank.r2.v);\n",
    "console.log(\"3위: %s(%s%d)\", rank.r3.k, rank.r3.s, rank.r3.v);"
   ]
  },
  {
   "cell_type": "code",
   "execution_count": 9,
   "metadata": {},
   "outputs": [
    {
     "name": "stdout",
     "output_type": "stream",
     "text": [
      "[1번째 학생]\n",
      " >> 학번: 10101\n",
      " >> 학년: 1\n",
      " >> 이름: 학생1\n",
      "\n",
      "[2번째 학생]\n",
      " >> 학번: 20202\n",
      " >> 학년: 2\n",
      " >> 이름: 학생2\n",
      "\n"
     ]
    }
   ],
   "source": [
    "var student = [{\t\t//배열에도 json 타입을 넣을 수 있음 (보통 댓글관리할 때 많이 사용)\n",
    "\tstudno: 10101,\n",
    "\tgrade: 1,\n",
    "\tname: \"학생1\"\n",
    "}, {\n",
    "\tstudno: 20202,\n",
    "\tgrade: 2,\n",
    "\tname: \"학생2\"\n",
    "}];\n",
    "\n",
    "for (var i=0; i<student.length; i++) {\n",
    "\tconsole.log(\"[%d번째 학생]\", i + 1);\n",
    "\tconsole.log(\" >> 학번: %d\", student[i].studno);\n",
    "\tconsole.log(\" >> 학년: %d\", student[i].grade);\n",
    "\tconsole.log(\" >> 이름: %s\", student[i].name);\n",
    "\tconsole.log();\n",
    "}"
   ]
  },
  {
   "cell_type": "code",
   "execution_count": 11,
   "metadata": {},
   "outputs": [
    {
     "name": "stdout",
     "output_type": "stream",
     "text": [
      "[게시판]\n",
      "총 게시물 수: 4\n",
      "[1] 첫 번째 게시물 제목\n",
      "[2] 두 번째 게시물 제목\n",
      "[3] 세 번째 게시물 제목\n",
      "[4] 네 번째 게시물 제목\n"
     ]
    }
   ],
   "source": [
    "var bbs = {\n",
    "    title: \"게시판\",\n",
    "    count: 4,\n",
    "    item: [         //json안에 배열을 넣음\n",
    "        {id: 1, subject: '첫 번째 게시물 제목'},\n",
    "        {id: 2, subject: '두 번째 게시물 제목'},\n",
    "        {id: 3, subject: '세 번째 게시물 제목'},\n",
    "        {id: 4, subject: '네 번째 게시물 제목'}\n",
    "    ]\n",
    "};\n",
    "\n",
    "console.log(\"[%s]\", bbs.title);\n",
    "console.log(\"총 게시물 수: %d\", bbs.count);\n",
    "\n",
    "for (var i=0; i<bbs.item.length; i++) {\n",
    "    console.log(\"[%d] %s\", bbs.item[i].id, bbs.item[i].subject);\n",
    "}"
   ]
  },
  {
   "cell_type": "code",
   "execution_count": 13,
   "metadata": {},
   "outputs": [
    {
     "name": "stdout",
     "output_type": "stream",
     "text": [
      "공지사항\n",
      "공지사항\n",
      "자유게시판\n"
     ]
    }
   ],
   "source": [
    "bbs.title = \"공지사항\";\n",
    "console.log(bbs.title);\n",
    "\n",
    "bbs.titel = \"자유게시판\";\n",
    "console.log(bbs.title);\n",
    "console.log(bbs.titel);     // 없는경우 새로 생성함 (에러가 안나기 때문에 버그에 신경써야함!!)"
   ]
  },
  {
   "cell_type": "code",
   "execution_count": 14,
   "metadata": {},
   "outputs": [
    {
     "name": "stdout",
     "output_type": "stream",
     "text": [
      "{}\n",
      "{ name: '자바스크립트', age: 20 }\n"
     ]
    }
   ],
   "source": [
    "var myjson = {};\n",
    "console.log(myjson);\n",
    "\n",
    "myjson.name = \"자바스크립트\";   // 없을 경우 생성해주는 기능을 응용\n",
    "myjson.age = 20;\n",
    "console.log(myjson);"
   ]
  },
  {
   "cell_type": "code",
   "execution_count": 16,
   "metadata": {},
   "outputs": [
    {
     "name": "stdout",
     "output_type": "stream",
     "text": [
      "undefined\n",
      "HelloWorld\n",
      "{ name: '자바스크립트', age: 20, msg: 'HelloWorld', aga: 21 }\n"
     ]
    }
   ],
   "source": [
    "var myjson = {\n",
    "\tname: \"자바스크립트\",\n",
    "\tage: 20\n",
    "};\n",
    "\n",
    "console.log(myjson.msg);\t\t// 정의되지않은 것을 출력하려하면 undefined\n",
    "\t\t\t\t\t\t\t\t// 에러로 인식하지 않기때문에 주의!\n",
    "myjson.msg = \"HelloWorld\";\t\t\n",
    "console.log(myjson.msg);\n",
    "\n",
    "myjson.aga = 21;\n",
    "console.log(myjson);"
   ]
  },
  {
   "cell_type": "code",
   "execution_count": null,
   "metadata": {},
   "outputs": [],
   "source": []
  }
 ],
 "metadata": {
  "kernelspec": {
   "display_name": "Javascript (Node.js)",
   "language": "javascript",
   "name": "javascript"
  },
  "language_info": {
   "file_extension": ".js",
   "mimetype": "application/javascript",
   "name": "javascript",
   "version": "12.13.0"
  }
 },
 "nbformat": 4,
 "nbformat_minor": 4
}
