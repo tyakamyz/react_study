{
 "cells": [
  {
   "cell_type": "markdown",
   "metadata": {},
   "source": [
    "# 객체\n",
    "\n",
    "하나의 변수안에 대상의 명사적 특성인 변수와 동사적 특성인 함수를 함께 담은 형태\n",
    "* 변수 : 멤버변수, 프로퍼티\n",
    "* 함수 : 메서드"
   ]
  },
  {
   "cell_type": "code",
   "execution_count": 5,
   "metadata": {},
   "outputs": [
    {
     "name": "stdout",
     "output_type": "stream",
     "text": [
      "이름: Node\n",
      "나이: 20\n",
      "이름: 노드\n",
      "나이: 19\n"
     ]
    }
   ],
   "source": [
    "var obj = {\n",
    "\tname: 'Node',\n",
    "\tage : 20,\n",
    "\tsay : function() {\t// json은 형태의 제한이 없기때문에 함수 역시 가능\n",
    "\t\t// 함수 안에서 프로퍼티는 this를 통해 접근 가능\n",
    "\t\tconsole.log(\"이름: \" + this.name);\n",
    "\t\tconsole.log(\"나이: \" + this.age);\n",
    "\t},\n",
    "\tgetName: function() {\t\t// getName: () => { 로 변경 가능\n",
    "\t\treturn this.name;\t\t// let name = obj.getName();\n",
    "\t},\n",
    "\tsetName: function(name) {\t// setName: name => { 로 변경 가능\n",
    "\t\tthis.name = name;\n",
    "\t}\n",
    "};\n",
    "\n",
    "obj.say();\n",
    "obj.setName(\"노드\");\n",
    "console.log(\"이름: \" + obj.getName());\n",
    "\n",
    "obj.age = 19;\n",
    "console.log(\"나이: \" + obj.age);"
   ]
  },
  {
   "cell_type": "code",
   "execution_count": 7,
   "metadata": {},
   "outputs": [
    {
     "name": "stdout",
     "output_type": "stream",
     "text": [
      "이름: Node\n",
      "나이: 20\n",
      "이름: 노드\n",
      "나이: 19\n"
     ]
    }
   ],
   "source": [
    "var obj = {};\t\t// json을 우선 선언 한 후. 그 뒤에 json 데이터들을 넣어도 생성됨\n",
    "\n",
    "obj.name = 'Node';\n",
    "obj.age = 20;\n",
    "\n",
    "obj.say = function() {\n",
    "\tconsole.log(\"이름: \" + this.name);\n",
    "\tconsole.log(\"나이: \" + this.age);\n",
    "};\n",
    "\n",
    "obj.say();\n",
    "\n",
    "obj.getName = function() {\n",
    "\treturn this.name;\n",
    "};\n",
    "\n",
    "obj.setName = function(name) {\n",
    "\tthis.name = name;\n",
    "};\n",
    "\n",
    "obj.setName(\"노드\");\n",
    "console.log(\"이름: \" + obj.getName());\n",
    "obj.age = 19;\n",
    "console.log(\"나이: \" + obj.age);"
   ]
  },
  {
   "cell_type": "code",
   "execution_count": null,
   "metadata": {},
   "outputs": [],
   "source": []
  }
 ],
 "metadata": {
  "kernelspec": {
   "display_name": "Javascript (Node.js)",
   "language": "javascript",
   "name": "javascript"
  },
  "language_info": {
   "file_extension": ".js",
   "mimetype": "application/javascript",
   "name": "javascript",
   "version": "12.13.0"
  }
 },
 "nbformat": 4,
 "nbformat_minor": 4
}
