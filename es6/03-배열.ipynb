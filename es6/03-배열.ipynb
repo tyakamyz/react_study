{
 "cells": [
  {
   "cell_type": "markdown",
   "metadata": {},
   "source": [
    "# 배열"
   ]
  },
  {
   "cell_type": "markdown",
   "metadata": {},
   "source": [
    "* **배열 기본 입력 방법**"
   ]
  },
  {
   "cell_type": "code",
   "execution_count": 11,
   "metadata": {},
   "outputs": [
    {
     "name": "stdout",
     "output_type": "stream",
     "text": [
      "[ 'item1', 'item2', 'item3' ]\n"
     ]
    }
   ],
   "source": [
    "var list = ['item1', 'item2', 'item3'];\n",
    "console.log(list);"
   ]
  },
  {
   "cell_type": "code",
   "execution_count": 12,
   "metadata": {},
   "outputs": [
    {
     "name": "stdout",
     "output_type": "stream",
     "text": [
      "[ 'item1', 'item2', 'item3', 'item4' ]\n"
     ]
    }
   ],
   "source": [
    "list.push('item4');     // 맨 끝에 원소를 추가.\n",
    "console.log(list);"
   ]
  },
  {
   "cell_type": "code",
   "execution_count": 13,
   "metadata": {},
   "outputs": [
    {
     "name": "stdout",
     "output_type": "stream",
     "text": [
      "[ 'item1', 'item2', 'item3' ]\n"
     ]
    }
   ],
   "source": [
    "var last = list.pop();  // 맨 끝 원소를 꺼내서 리턴하고 그 자리는 삭제\n",
    "console.log(list);"
   ]
  },
  {
   "cell_type": "code",
   "execution_count": 14,
   "metadata": {},
   "outputs": [
    {
     "name": "stdout",
     "output_type": "stream",
     "text": [
      "[ 'item0', 'item1', 'item2', 'item3' ]\n"
     ]
    }
   ],
   "source": [
    "list.unshift('item0');  // 맨 앞에 원소를 추가하고 원래 있던 항목들은 뒤로 밀어냄\n",
    "console.log(list);"
   ]
  },
  {
   "cell_type": "code",
   "execution_count": 15,
   "metadata": {},
   "outputs": [
    {
     "name": "stdout",
     "output_type": "stream",
     "text": [
      "first: item0\n",
      "[ 'item1', 'item2', 'item3' ]\n"
     ]
    }
   ],
   "source": [
    "var first = list.shift();   // 맨 앞에 원소를 꺼내서 리턴하고 그 자리는 삭제\n",
    "console.log(\"first: \" + first);\n",
    "console.log(list);"
   ]
  },
  {
   "cell_type": "markdown",
   "metadata": {},
   "source": [
    "---"
   ]
  },
  {
   "cell_type": "markdown",
   "metadata": {},
   "source": [
    "# splice, slice의 기본 사용법"
   ]
  },
  {
   "cell_type": "markdown",
   "metadata": {},
   "source": [
    "* **splice**"
   ]
  },
  {
   "cell_type": "code",
   "execution_count": 16,
   "metadata": {},
   "outputs": [
    {
     "name": "stdout",
     "output_type": "stream",
     "text": [
      "[ 'item1' ]\n",
      "[ 'item2', 'item3' ]\n"
     ]
    }
   ],
   "source": [
    "var list = ['item1', 'item2', 'item3'];     // 기본 배열 만들기\n",
    "var k = list.splice(1,2);                   // 인덱스가 1인 항목부터 2인 항목까지 잘라서 리턴\n",
    "console.log(list);                          // 잘라낸 자리는 삭제됨\n",
    "console.log(k);                             // 잘라낸 항목"
   ]
  },
  {
   "cell_type": "code",
   "execution_count": 17,
   "metadata": {},
   "outputs": [
    {
     "name": "stdout",
     "output_type": "stream",
     "text": [
      "[ 'new1', 'new2', 'new3', 'item2', 'item3' ]\n"
     ]
    }
   ],
   "source": [
    "var list = ['item1', 'item2', 'item3'];     // 기본 배열 만들기\n",
    "list.splice(0, 1, 'new1', 'new2', 'new3');  // 0번째부터 1칸에 항목들을 삽입\n",
    "console.log(list);"
   ]
  },
  {
   "cell_type": "code",
   "execution_count": 18,
   "metadata": {},
   "outputs": [
    {
     "name": "stdout",
     "output_type": "stream",
     "text": [
      "[ 'item1', 'item2', 'new4', 'new5' ]\n"
     ]
    }
   ],
   "source": [
    "var list = ['item1', 'item2', 'item3'];     // 기본 배열 만들기\n",
    "list.splice(2, 1, 'new4', 'new5');          // 2번째부터 1칸에 항목들을 삽입\n",
    "console.log(list);"
   ]
  },
  {
   "cell_type": "markdown",
   "metadata": {},
   "source": [
    "* **slice**"
   ]
  },
  {
   "cell_type": "code",
   "execution_count": 19,
   "metadata": {},
   "outputs": [
    {
     "name": "stdout",
     "output_type": "stream",
     "text": [
      "[ 'item1', 'item2', 'item3', 'item4', 'item5' ]\n",
      "[ 'item2', 'item3' ]\n"
     ]
    }
   ],
   "source": [
    "var list = ['item1', 'item2', 'item3', 'item4', 'item5'];     // 기본 배열 만들기\n",
    "var copy = list.slice(1, 3);                                  // 1번째부터 3번째 전까지 잘라서 복사\n",
    "console.log(list);\n",
    "console.log(copy);"
   ]
  },
  {
   "cell_type": "markdown",
   "metadata": {},
   "source": [
    "# 배열의 참조"
   ]
  },
  {
   "cell_type": "markdown",
   "metadata": {},
   "source": [
    "* **얕은복사** (원본 배열과 복사된 배열의 값이 공유됨)"
   ]
  },
  {
   "cell_type": "code",
   "execution_count": 20,
   "metadata": {},
   "outputs": [
    {
     "name": "stdout",
     "output_type": "stream",
     "text": [
      "[before] arr1=[ 1, 2, 3 ]\n",
      "[before] arr2=[ 1, 2, 3 ]\n"
     ]
    }
   ],
   "source": [
    "var arr1 = [1,2,3];\n",
    "var arr2 = arr1;\n",
    "console.log(\"[before] arr1=%s\", arr1);\n",
    "console.log(\"[before] arr2=%s\", arr2);"
   ]
  },
  {
   "cell_type": "code",
   "execution_count": 21,
   "metadata": {},
   "outputs": [
    {
     "name": "stdout",
     "output_type": "stream",
     "text": [
      "[after1] arr1=[ 2, 4, 6 ]\n",
      "[after1] arr2=[ 2, 4, 6 ]\n"
     ]
    }
   ],
   "source": [
    "arr1[0]+=1;\n",
    "arr1[1]+=2;\n",
    "arr1[2]+=3;\n",
    "console.log(\"[after1] arr1=%s\", arr1);  // 배열의 복사는 참조이기 때문에 원본이 변경되면 함께 변경됨\n",
    "console.log(\"[after1] arr2=%s\", arr2);  // 이 현상을 참조라 부름"
   ]
  },
  {
   "cell_type": "code",
   "execution_count": 22,
   "metadata": {},
   "outputs": [
    {
     "name": "stdout",
     "output_type": "stream",
     "text": [
      "[after2] arr1=[ 12, 24, 36 ]\n",
      "[after2] arr2=[ 12, 24, 36 ]\n"
     ]
    }
   ],
   "source": [
    "arr2[0]+=10;\n",
    "arr2[1]+=20;\n",
    "arr2[2]+=30;\n",
    "console.log(\"[after2] arr1=%s\", arr1);  // 복사본을 변경해도 원본이 함께 변경됨\n",
    "console.log(\"[after2] arr2=%s\", arr2);"
   ]
  },
  {
   "cell_type": "markdown",
   "metadata": {},
   "source": [
    "* **깊은복사** (원본 배열과 복사된 배열의 값이 각각 개별로 존재)"
   ]
  },
  {
   "cell_type": "code",
   "execution_count": 29,
   "metadata": {},
   "outputs": [
    {
     "name": "stdout",
     "output_type": "stream",
     "text": [
      "[before] arr1=[ 1, 2, 3 ]\n",
      "[before] arr2=[ 1, 2, 3 ]\n",
      "[after] arr1=[ 1, 2, 3 ]\n",
      "[after] arr2=[ 11, 22, 33 ]\n"
     ]
    }
   ],
   "source": [
    "var arr1 = [1,2,3];\n",
    "var arr2 = new Array(arr1.length);\n",
    "for(var i=0; i<arr1.length; i++){\n",
    "    arr2[i] = arr1[i];\n",
    "}\n",
    "console.log(\"[before] arr1=%s\", arr1);\n",
    "console.log(\"[before] arr2=%s\", arr2);\n",
    "\n",
    "arr2[0]+=10;\n",
    "arr2[1]+=20;\n",
    "arr2[2]+=30;\n",
    "console.log(\"[after] arr1=%s\", arr1);  // for문으로 개별적으로 넣어줄 경우 참조가 되지않음\n",
    "console.log(\"[after] arr2=%s\", arr2);"
   ]
  },
  {
   "cell_type": "code",
   "execution_count": 28,
   "metadata": {},
   "outputs": [
    {
     "name": "stdout",
     "output_type": "stream",
     "text": [
      "[before] arr1=[ 1, 2, 3 ]\n",
      "[before] arr2=[ 1, 2, 3 ]\n",
      "[after] arr1=[ 1, 2, 3 ]\n",
      "[after] arr2=[ 11, 22, 33 ]\n"
     ]
    }
   ],
   "source": [
    "var arr1 = [1,2,3];\n",
    "//var arr2 = arr1.slice(0, arr1.length);\n",
    "var arr2 = arr1.slice();       // 깊은 복사(원본과 복사본이 각각 존재함). 반댓말 얕은복사\n",
    "console.log(\"[before] arr1=%s\", arr1);\n",
    "console.log(\"[before] arr2=%s\", arr2);\n",
    "\n",
    "arr2[0]+=10;\n",
    "arr2[1]+=20;\n",
    "arr2[2]+=30;\n",
    "console.log(\"[after] arr1=%s\", arr1); \n",
    "console.log(\"[after] arr2=%s\", arr2);"
   ]
  },
  {
   "cell_type": "code",
   "execution_count": null,
   "metadata": {},
   "outputs": [],
   "source": []
  }
 ],
 "metadata": {
  "kernelspec": {
   "display_name": "Javascript (Node.js)",
   "language": "javascript",
   "name": "javascript"
  },
  "language_info": {
   "file_extension": ".js",
   "mimetype": "application/javascript",
   "name": "javascript",
   "version": "12.13.0"
  }
 },
 "nbformat": 4,
 "nbformat_minor": 4
}
